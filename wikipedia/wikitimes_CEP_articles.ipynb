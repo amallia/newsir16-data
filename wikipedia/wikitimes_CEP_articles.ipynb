{
 "cells": [
  {
   "cell_type": "code",
   "execution_count": 2,
   "metadata": {
    "collapsed": true
   },
   "outputs": [],
   "source": [
    "%matplotlib inline\n",
    "import pandas as pd\n",
    "import numpy as np\n",
    "pd.set_option('display.max_colwidth', 500)\n",
    "\n",
    "import os\n",
    "import simplejson as json\n",
    "\n",
    "from robobrowser import RoboBrowser"
   ]
  },
  {
   "cell_type": "code",
   "execution_count": 4,
   "metadata": {
    "collapsed": false
   },
   "outputs": [],
   "source": [
    "# Download html, return failed urls\n",
    "def download_articles(df_sources):\n",
    "    df_errors = pd.DataFrame(columns=[\"id\",\"url\"])\n",
    "    chrome_user_agent = 'Mozilla/5.0 (Macintosh; Intel Mac OS X 10_10_1) AppleWebKit/537.36 (KHTML, like Gecko) Chrome/41.0.2227.1 Safari/537.36'\n",
    "\n",
    "    for url in df_sources.iterrows():\n",
    "        page_id = url[1]['id']\n",
    "        html_file = \"2015-09_wikitimes_CEP_articles/\"+page_id+\".html\"\n",
    "        if (os.path.isfile(html_file)):\n",
    "            continue\n",
    "        try:\n",
    "            browser = RoboBrowser(user_agent=chrome_user_agent, tries=3)                                             \n",
    "            browser.open(url[1]['url'])       \n",
    "            with open(html_file, \"w\") as html:\n",
    "                html.write(browser.response.content.decode('utf-8'))\n",
    "        except Exception as e:\n",
    "            print(\"* Error:\", page_id, url[1]['url'])\n",
    "            df_errors = df_errors.append({'id':page_id, 'url':url[1]['url']}, ignore_index=True)\n",
    "            print(e)\n",
    "    return df_errors"
   ]
  },
  {
   "cell_type": "code",
   "execution_count": 3,
   "metadata": {
    "collapsed": false
   },
   "outputs": [
    {
     "name": "stdout",
     "output_type": "stream",
     "text": [
      "428 events\n"
     ]
    }
   ],
   "source": [
    "df_wiki_events = pd.read_json('2015-09_wikitimes_CEP.json')\n",
    "print (len(df_wiki_events), \"events\")"
   ]
  },
  {
   "cell_type": "code",
   "execution_count": 4,
   "metadata": {
    "collapsed": false
   },
   "outputs": [
    {
     "data": {
      "text/html": [
       "<div>\n",
       "<table border=\"1\" class=\"dataframe\">\n",
       "  <thead>\n",
       "    <tr style=\"text-align: right;\">\n",
       "      <th></th>\n",
       "      <th>belongsToStory</th>\n",
       "      <th>category</th>\n",
       "      <th>date</th>\n",
       "      <th>description</th>\n",
       "      <th>entity</th>\n",
       "      <th>id</th>\n",
       "      <th>source</th>\n",
       "    </tr>\n",
       "  </thead>\n",
       "  <tbody>\n",
       "    <tr>\n",
       "      <th>0</th>\n",
       "      <td>{'wikipediaUrl': 'http://en.wikipedia.org/wiki/Destruction_of_cultural_heritage_by_ISIL', 'name': 'Destruction of cultural heritage by ISIL', 'id': '1894'}</td>\n",
       "      <td>{'name': 'War_Conflict', 'id': '2'}</td>\n",
       "      <td>2015-09-01</td>\n",
       "      <td>The United Nations confirms the Islamic State of Iraq and the Levant has completely destroyed the Temple of Bel in Palmyra, Syria, after earlier reports that the structure was mostly intact.</td>\n",
       "      <td>[{'name': 'United Nations', 'id': '17', 'wikiURL': 'http://en.wikipedia.org/wiki/United_Nations'}, {'name': 'Syria', 'id': '147', 'wikiURL': 'http://en.wikipedia.org/wiki/Syria'}, {'name': 'Islamic State of Iraq and the Levant', 'id': '47034', 'wikiURL': 'http://en.wikipedia.org/wiki/Islamic_State_of_Iraq_and_the_Levant'}, {'name': 'Palmyra', 'id': '49507', 'wikiURL': 'http://en.wikipedia.org/wiki/Palmyra'}, {'name': 'Temple of Bel', 'id': '52971', 'wikiURL': 'http://en.wikipedia.org/wiki/Te...</td>\n",
       "      <td>56657</td>\n",
       "      <td>[{'url': 'http://www.bbc.com/news/world-middle-east-34111092', 'type': 'article', 'id': '74033', 'sourceName': 'BBC'}, {'url': 'http://www.aljazeera.com/news/2015/08/confirms-destruction-famed-palmyra-temple-150831230110476.html', 'type': 'article', 'id': '74034', 'sourceName': 'Al Jazeera English Online'}]</td>\n",
       "    </tr>\n",
       "  </tbody>\n",
       "</table>\n",
       "</div>"
      ],
      "text/plain": [
       "                                                                                                                                                belongsToStory  \\\n",
       "0  {'wikipediaUrl': 'http://en.wikipedia.org/wiki/Destruction_of_cultural_heritage_by_ISIL', 'name': 'Destruction of cultural heritage by ISIL', 'id': '1894'}   \n",
       "\n",
       "                              category       date  \\\n",
       "0  {'name': 'War_Conflict', 'id': '2'} 2015-09-01   \n",
       "\n",
       "                                                                                                                                                                                        description  \\\n",
       "0  The United Nations confirms the Islamic State of Iraq and the Levant has completely destroyed the Temple of Bel in Palmyra, Syria, after earlier reports that the structure was mostly intact.     \n",
       "\n",
       "                                                                                                                                                                                                                                                                                                                                                                                                                                                                                                                entity  \\\n",
       "0  [{'name': 'United Nations', 'id': '17', 'wikiURL': 'http://en.wikipedia.org/wiki/United_Nations'}, {'name': 'Syria', 'id': '147', 'wikiURL': 'http://en.wikipedia.org/wiki/Syria'}, {'name': 'Islamic State of Iraq and the Levant', 'id': '47034', 'wikiURL': 'http://en.wikipedia.org/wiki/Islamic_State_of_Iraq_and_the_Levant'}, {'name': 'Palmyra', 'id': '49507', 'wikiURL': 'http://en.wikipedia.org/wiki/Palmyra'}, {'name': 'Temple of Bel', 'id': '52971', 'wikiURL': 'http://en.wikipedia.org/wiki/Te...   \n",
       "\n",
       "      id  \\\n",
       "0  56657   \n",
       "\n",
       "                                                                                                                                                                                                                                                                                                                 source  \n",
       "0  [{'url': 'http://www.bbc.com/news/world-middle-east-34111092', 'type': 'article', 'id': '74033', 'sourceName': 'BBC'}, {'url': 'http://www.aljazeera.com/news/2015/08/confirms-destruction-famed-palmyra-temple-150831230110476.html', 'type': 'article', 'id': '74034', 'sourceName': 'Al Jazeera English Online'}]  "
      ]
     },
     "execution_count": 4,
     "metadata": {},
     "output_type": "execute_result"
    }
   ],
   "source": [
    "df_wiki_events.head(1)"
   ]
  },
  {
   "cell_type": "code",
   "execution_count": 5,
   "metadata": {
    "collapsed": false
   },
   "outputs": [],
   "source": [
    "df_sources = pd.DataFrame(columns=['event','sourceName', 'type', 'url', 'id'])\n",
    "\n",
    "for event in df_wiki_events.iterrows():\n",
    "    urls = event[1]['source']\n",
    "    for url in urls:\n",
    "        url['event'] = event[0]\n",
    "        df_sources = df_sources.append(url, ignore_index=True)"
   ]
  },
  {
   "cell_type": "code",
   "execution_count": 6,
   "metadata": {
    "collapsed": false
   },
   "outputs": [
    {
     "name": "stdout",
     "output_type": "stream",
     "text": [
      "606 News Articles\n"
     ]
    },
    {
     "data": {
      "text/html": [
       "<div>\n",
       "<table border=\"1\" class=\"dataframe\">\n",
       "  <thead>\n",
       "    <tr style=\"text-align: right;\">\n",
       "      <th></th>\n",
       "      <th>event</th>\n",
       "      <th>sourceName</th>\n",
       "      <th>type</th>\n",
       "      <th>url</th>\n",
       "      <th>id</th>\n",
       "    </tr>\n",
       "  </thead>\n",
       "  <tbody>\n",
       "    <tr>\n",
       "      <th>0</th>\n",
       "      <td>0.0</td>\n",
       "      <td>BBC</td>\n",
       "      <td>article</td>\n",
       "      <td>http://www.bbc.com/news/world-middle-east-34111092</td>\n",
       "      <td>74033</td>\n",
       "    </tr>\n",
       "    <tr>\n",
       "      <th>1</th>\n",
       "      <td>0.0</td>\n",
       "      <td>Al Jazeera English Online</td>\n",
       "      <td>article</td>\n",
       "      <td>http://www.aljazeera.com/news/2015/08/confirms-destruction-famed-palmyra-temple-150831230110476.html</td>\n",
       "      <td>74034</td>\n",
       "    </tr>\n",
       "  </tbody>\n",
       "</table>\n",
       "</div>"
      ],
      "text/plain": [
       "   event                 sourceName     type  \\\n",
       "0    0.0                        BBC  article   \n",
       "1    0.0  Al Jazeera English Online  article   \n",
       "\n",
       "                                                                                                    url  \\\n",
       "0                                                    http://www.bbc.com/news/world-middle-east-34111092   \n",
       "1  http://www.aljazeera.com/news/2015/08/confirms-destruction-famed-palmyra-temple-150831230110476.html   \n",
       "\n",
       "      id  \n",
       "0  74033  \n",
       "1  74034  "
      ]
     },
     "execution_count": 6,
     "metadata": {},
     "output_type": "execute_result"
    }
   ],
   "source": [
    "print (len(df_sources['id'].unique()), \"News Articles\")\n",
    "df_sources.head(2)"
   ]
  },
  {
   "cell_type": "code",
   "execution_count": 30,
   "metadata": {
    "collapsed": false,
    "scrolled": false
   },
   "outputs": [
    {
     "name": "stdout",
     "output_type": "stream",
     "text": [
      "* Error: 74105 http://www.turkishweekly.net/2015/09/03/news/two-british-journalists-held-on-terror-charge-released/\n",
      "* Error: 74237 http://www.daijiworld.com/news/news_disp.asp?n_id=352918\n",
      "* Error: 74382 http://yosemite.epa.gov/opa/admpress.nsf/d0cf6618525a9efb85257359003fb69d/dfc8e33b5ab162b985257ec40057813b!opendocument\n",
      "* Error: 74448 http://w.worldwideherald.com/yourls-go.php?id=qsjt0\n",
      "* Error: 74545 http://www.maltatoday.com.mt/news/world/57544/libyan_human_trafficker_reportedly_killed_by_italian_commandos#.VgaOr5dSJFQ\n"
     ]
    }
   ],
   "source": [
    "#Download Pages:\n",
    "df_errors = download_articles(df_sources)"
   ]
  },
  {
   "cell_type": "code",
   "execution_count": null,
   "metadata": {
    "collapsed": false
   },
   "outputs": [],
   "source": [
    "# TODO: better way to retry failed articles, replace dead links.\n",
    "# df_errors2 = download_articles(df_errors) ..."
   ]
  },
  {
   "cell_type": "code",
   "execution_count": 27,
   "metadata": {
    "collapsed": false
   },
   "outputs": [
    {
     "name": "stdout",
     "output_type": "stream",
     "text": [
      "Unique Publishers: 261 Unique Articles: 606\n",
      "Top 50 cited publishers cover 384 articles 63.37 %\n"
     ]
    },
    {
     "data": {
      "image/png": "[encoded data removed]",
      "text/plain": [
       "<matplotlib.figure.Figure at 0x7ff174168160>"
      ]
     },
     "metadata": {},
     "output_type": "display_data"
    }
   ],
   "source": [
    "# Top cited sources by publication:\n",
    "topN = 50\n",
    "\n",
    "print(\"Unique Publishers:\", \n",
    "      len(df_sources['sourceName'].unique()), \n",
    "      \"Unique Articles:\", \n",
    "      len(df_sources['id'].unique()))\n",
    "\n",
    "df_sources['sourceName'].value_counts().head(topN).plot(kind='bar', figsize=(16,7))\n",
    "\n",
    "topNSources = list(df_sources['sourceName'].value_counts().head(topN).index)\n",
    "articles = len(df_sources['id'].unique())\n",
    "cover = len(df_sources[df_sources['sourceName'].isin(topNSources)])\n",
    "\n",
    "print(\"Top\", topN, \"cited publishers cover\", cover, \"articles\", np.round((cover / articles) * 100, 2), \"%\")"
   ]
  },
  {
   "cell_type": "code",
   "execution_count": null,
   "metadata": {
    "collapsed": true
   },
   "outputs": [],
   "source": []
  }
 ],
 "metadata": {
  "kernelspec": {
   "display_name": "Python 3",
   "language": "python",
   "name": "python3"
  },
  "language_info": {
   "codemirror_mode": {
    "name": "ipython",
    "version": 3
   },
   "file_extension": ".py",
   "mimetype": "text/x-python",
   "name": "python",
   "nbconvert_exporter": "python",
   "pygments_lexer": "ipython3",
   "version": "3.5.1"
  }
 },
 "nbformat": 4,
 "nbformat_minor": 0
}
